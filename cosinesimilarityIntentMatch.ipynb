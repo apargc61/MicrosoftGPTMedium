{
 "cells": [
  {
   "cell_type": "code",
   "execution_count": null,
   "metadata": {},
   "outputs": [],
   "source": [
    "# pip install ipykernel\n",
    "# python -m ipykernel install --user --name=forchat"
   ]
  },
  {
   "cell_type": "code",
   "execution_count": null,
   "metadata": {},
   "outputs": [],
   "source": [
    "import spacy\n",
    "\n",
    "class IntentMatcher:\n",
    "    def __init__(self):\n",
    "        self.nlp = spacy.load('en_core_web_sm')\n",
    "        # Define some sample intents and their representative sentences\n",
    "        self.intents = {\n",
    "            \"greeting\": self.nlp(\"hello\"),\n",
    "            \"goodbye\": self.nlp(\"goodbye\"),\n",
    "            \"ask_weather\": self.nlp(\"weather today\"),\n",
    "            \"ask_time\": self.nlp(\"current time\")\n",
    "        }\n",
    "\n",
    "    def predict_intent(self, text):\n",
    "        input_vector = self.nlp(text)\n",
    "        max_similarity = -1\n",
    "        matched_intent = None\n",
    "\n",
    "        # Calculate cosine similarity for each intent and pick the highest\n",
    "        for intent, intent_vector in self.intents.items():\n",
    "            similarity = input_vector.similarity(intent_vector)\n",
    "            if similarity > max_similarity:\n",
    "                max_similarity = similarity\n",
    "                matched_intent = intent\n",
    "\n",
    "        return matched_intent\n",
    "\n",
    "def main():\n",
    "    matcher = IntentMatcher()\n",
    "    while True:\n",
    "        user_input = input(\"You: \")\n",
    "        if user_input.lower() in [\"exit\", \"quit\"]:\n",
    "            print(\"Exiting...\")\n",
    "            break\n",
    "        intent = matcher.predict_intent(user_input)\n",
    "        print(f\"Detected Intent: {intent}\")\n",
    "\n",
    "if __name__ == \"__main__\":\n",
    "    main()\n"
   ]
  }
 ],
 "metadata": {
  "language_info": {
   "name": "python"
  },
  "orig_nbformat": 4
 },
 "nbformat": 4,
 "nbformat_minor": 2
}
